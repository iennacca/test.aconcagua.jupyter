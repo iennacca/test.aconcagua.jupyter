{
 "cells": [
  {
   "cell_type": "markdown",
   "metadata": {},
   "source": [
    "<b>DMXe though Jupyter Notebooks</b>\n",
    "\n",
    "First step is to install the DMXe/DMXi package from nuget."
   ]
  },
  {
   "cell_type": "code",
   "execution_count": 1,
   "metadata": {
    "scrolled": false
   },
   "outputs": [
    {
     "data": {
      "text/html": [
       "\r\n",
       "<div>\r\n",
       "    <div id='dotnet-interactive-this-cell-12064.Microsoft.DotNet.Interactive.Http.HttpPort' style='display: none'>\r\n",
       "        The below script needs to be able to find the current output cell; this is an easy method to get it.\r\n",
       "    </div>\r\n",
       "    <script type='text/javascript'>\r\n",
       "async function probeAddresses(probingAddresses) {\r\n",
       "    function timeout(ms, promise) {\r\n",
       "        return new Promise(function (resolve, reject) {\r\n",
       "            setTimeout(function () {\r\n",
       "                reject(new Error('timeout'))\r\n",
       "            }, ms)\r\n",
       "            promise.then(resolve, reject)\r\n",
       "        })\r\n",
       "    }\r\n",
       "\r\n",
       "    if (Array.isArray(probingAddresses)) {\r\n",
       "        for (let i = 0; i < probingAddresses.length; i++) {\r\n",
       "\r\n",
       "            let rootUrl = probingAddresses[i];\r\n",
       "\r\n",
       "            if (!rootUrl.endsWith('/')) {\r\n",
       "                rootUrl = `${rootUrl}/`;\r\n",
       "            }\r\n",
       "\r\n",
       "            try {\r\n",
       "                let response = await timeout(1000, fetch(`${rootUrl}discovery`, {\r\n",
       "                    method: 'POST',\r\n",
       "                    cache: 'no-cache',\r\n",
       "                    mode: 'cors',\r\n",
       "                    timeout: 1000,\r\n",
       "                    headers: {\r\n",
       "                        'Content-Type': 'text/plain'\r\n",
       "                    },\r\n",
       "                    body: probingAddresses[i]\r\n",
       "                }));\r\n",
       "\r\n",
       "                if (response.status == 200) {\r\n",
       "                    return rootUrl;\r\n",
       "                }\r\n",
       "            }\r\n",
       "            catch (e) { }\r\n",
       "        }\r\n",
       "    }\r\n",
       "}\r\n",
       "\r\n",
       "function loadDotnetInteractiveApi() {\r\n",
       "    probeAddresses([\"http://10.0.0.40:1000/\", \"http://172.17.121.97:1000/\", \"http://172.17.203.241:1000/\", \"http://127.0.0.1:1000/\"])\r\n",
       "        .then((root) => {\r\n",
       "        // use probing to find host url and api resources\r\n",
       "        // load interactive helpers and language services\r\n",
       "        let dotnetInteractiveRequire = require.config({\r\n",
       "        context: '12064.Microsoft.DotNet.Interactive.Http.HttpPort',\r\n",
       "                paths:\r\n",
       "            {\r\n",
       "                'dotnet-interactive': `${root}resources`\r\n",
       "                }\r\n",
       "        }) || require;\r\n",
       "\r\n",
       "            window.dotnetInteractiveRequire = dotnetInteractiveRequire;\r\n",
       "\r\n",
       "            window.configureRequireFromExtension = function(extensionName, extensionCacheBuster) {\r\n",
       "                let paths = {};\r\n",
       "                paths[extensionName] = `${root}extensions/${extensionName}/resources/`;\r\n",
       "                \r\n",
       "                let internalRequire = require.config({\r\n",
       "                    context: extensionCacheBuster,\r\n",
       "                    paths: paths,\r\n",
       "                    urlArgs: `cacheBuster=${extensionCacheBuster}`\r\n",
       "                    }) || require;\r\n",
       "\r\n",
       "                return internalRequire\r\n",
       "            };\r\n",
       "        \r\n",
       "            dotnetInteractiveRequire([\r\n",
       "                    'dotnet-interactive/dotnet-interactive'\r\n",
       "                ],\r\n",
       "                function (dotnet) {\r\n",
       "                    dotnet.init(window);\r\n",
       "                },\r\n",
       "                function (error) {\r\n",
       "                    console.log(error);\r\n",
       "                }\r\n",
       "            );\r\n",
       "        })\r\n",
       "        .catch(error => {console.log(error);});\r\n",
       "    }\r\n",
       "\r\n",
       "// ensure `require` is available globally\r\n",
       "if ((typeof(require) !==  typeof(Function)) || (typeof(require.config) !== typeof(Function))) {\r\n",
       "    let require_script = document.createElement('script');\r\n",
       "    require_script.setAttribute('src', 'https://cdnjs.cloudflare.com/ajax/libs/require.js/2.3.6/require.min.js');\r\n",
       "    require_script.setAttribute('type', 'text/javascript');\r\n",
       "    \r\n",
       "    \r\n",
       "    require_script.onload = function() {\r\n",
       "        loadDotnetInteractiveApi();\r\n",
       "    };\r\n",
       "\r\n",
       "    document.getElementsByTagName('head')[0].appendChild(require_script);\r\n",
       "}\r\n",
       "else {\r\n",
       "    loadDotnetInteractiveApi();\r\n",
       "}\r\n",
       "\r\n",
       "    </script>\r\n",
       "</div>"
      ]
     },
     "metadata": {},
     "output_type": "display_data"
    },
    {
     "data": {
      "text/plain": [
       "Installed package DMXiServer version 0.5.13"
      ]
     },
     "metadata": {},
     "output_type": "display_data"
    }
   ],
   "source": [
    "#r \"nuget:DMXiServer\""
   ]
  },
  {
   "cell_type": "markdown",
   "metadata": {},
   "source": [
    "A connection to this package needs to be created to run queries against DMXe/DMXi."
   ]
  },
  {
   "cell_type": "code",
   "execution_count": 2,
   "metadata": {
    "scrolled": false
   },
   "outputs": [],
   "source": [
    "#pragma warning disable CS1702  \n",
    "using aconcagua.server;\n",
    "var server = new AconcaguaService(null);"
   ]
  },
  {
   "cell_type": "markdown",
   "metadata": {},
   "source": [
    "Once the connection is established, you can execute code queries.\n",
    "\n",
    "This query will test the basic connection and check the serer version."
   ]
  },
  {
   "cell_type": "code",
   "execution_count": 5,
   "metadata": {
    "scrolled": true
   },
   "outputs": [
    {
     "name": "stdout",
     "output_type": "stream",
     "text": [
      "0.5.13\r\n"
     ]
    }
   ],
   "source": [
    "var getVersionResponse = server.GetVersion(null, null).Result;\n",
    "Console.WriteLine(getVersionResponse.Version);"
   ]
  },
  {
   "cell_type": "markdown",
   "metadata": {},
   "source": [
    "Here we will query the list of databases at the root of the server.\n",
    "\n",
    "The server will use C:/Temp as the base directory for databases."
   ]
  },
  {
   "cell_type": "code",
   "execution_count": 6,
   "metadata": {
    "scrolled": false
   },
   "outputs": [
    {
     "name": "stdout",
     "output_type": "stream",
     "text": [
      "dmxe,brb_hist.dmxe\n",
      "dmxe,brb_macrofw.20201214024043.dmxe\n",
      "dmxe,brb_macrofw.dmxe\n",
      "dmxe,JupyterTesting.dmxe\n",
      "ecos,ECDATA_MFS\n"
     ]
    }
   ],
   "source": [
    "var getDatabasesResponse = server.GetDatabases(null, null).Result;\n",
    "\n",
    "foreach(var db in getDatabasesResponse.Sourcenames)\n",
    "{\n",
    "    Console.WriteLine(db);\n",
    "}"
   ]
  },
  {
   "cell_type": "markdown",
   "metadata": {},
   "source": [
    "We can now select a database and query for the available series."
   ]
  },
  {
   "cell_type": "code",
   "execution_count": null,
   "metadata": {
    "scrolled": true
   },
   "outputs": [],
   "source": [
    "var getSeriesKeysRequest = new GetSeriesKeysRequest();\n",
    "getSeriesKeysRequest.Sourcenames.Add(\"dmxe://localhost:5001/brb_hist.dmxe\");\n",
    "var getSeriesKeysResponse = server.GetSeriesKeys(getSeriesKeysRequest, null).Result;\n",
    "\n",
    "foreach(var key in getSeriesKeysResponse.Keys)\n",
    "{\n",
    "    Console.WriteLine(key.Seriesname);\n",
    "}"
   ]
  },
  {
   "cell_type": "markdown",
   "metadata": {},
   "source": [
    "Knowing the series name, we can query the metadata associated with the series."
   ]
  },
  {
   "cell_type": "code",
   "execution_count": null,
   "metadata": {
    "scrolled": false
   },
   "outputs": [],
   "source": [
    "var getMetadataRequest = new GetMetadataRequest();\n",
    "getMetadataRequest.Keys.Add(new SourceSeriesKey\n",
    "{\n",
    "    Sourcename = \"dmxe://localhost:5001/brb_macrofw.dmxe\", Seriesname = \"316NGDP\"\n",
    "});\n",
    "getMetadataRequest.Metadataheaders.Add(new List<string> { \"source\", \"scale\", \"unit\", \"2001A1\"});\n",
    "var getMetadataResponse = server.GetMetadata(getMetadataRequest, null).Result;\n",
    "\n",
    "Console.WriteLine(getMetadataResponse.Metadataheaders);\n",
    "foreach(var seriesData in getMetadataResponse.Seriesdata)\n",
    "{\n",
    "    Console.WriteLine(seriesData.Key.Seriesname);\n",
    "    Console.WriteLine(seriesData.Values);\n",
    "}"
   ]
  },
  {
   "cell_type": "markdown",
   "metadata": {},
   "source": [
    "We can query for all observations of a certian frequency instead of individual headers."
   ]
  },
  {
   "cell_type": "code",
   "execution_count": null,
   "metadata": {
    "scrolled": false
   },
   "outputs": [],
   "source": [
    "var getObservationsRequest = new GetObservationsRequest();\n",
    "getObservationsRequest.Keys.Add(new SourceSeriesKey\n",
    "{\n",
    "    Sourcename = \"dmxe://localhost:5001/brb_macrofw.dmxe\", Seriesname = \"316NGDP\"\n",
    "});\n",
    "getObservationsRequest.Frequencies = \"A\";\n",
    "var getObservationsResponse = server.GetObservations(getObservationsRequest, null).Result;\n",
    "\n",
    "foreach(var seriesdata in getObservationsResponse.Seriesdata)\n",
    "{\n",
    "    Console.WriteLine(seriesdata.Key.Sourcename + \"\\t\" + seriesdata.Key.Seriesname);\n",
    "    foreach(var keyValue in seriesdata.Values)\n",
    "    {\n",
    "        Console.WriteLine(keyValue.Key + \"\\t\" + keyValue.Value);\n",
    "    }\n",
    "}"
   ]
  },
  {
   "cell_type": "markdown",
   "metadata": {},
   "source": [
    "We can utilize a visualization library to create a chart from this obervation data."
   ]
  },
  {
   "cell_type": "code",
   "execution_count": null,
   "metadata": {
    "scrolled": true
   },
   "outputs": [],
   "source": [
    "using XPlot.Plotly;\n",
    "\n",
    "var xValues = new List<double>();\n",
    "var yValues = new List<double>();\n",
    "foreach(var keyValue in getObservationsResponse.Seriesdata[0].Values)\n",
    "{\n",
    "    yValues.Add(keyValue.Value);\n",
    "    xValues.Add(double.Parse(keyValue.Key.Substring(0,4)));\n",
    "}\n",
    "    \n",
    "Chart.Plot(\n",
    "    new Graph.Scatter\n",
    "    {\n",
    "        x = xValues,\n",
    "        y = yValues\n",
    "    }\n",
    ")"
   ]
  },
  {
   "cell_type": "markdown",
   "metadata": {},
   "source": [
    "We are not limited to just query data, we can utilize DMXe save functionality."
   ]
  },
  {
   "cell_type": "code",
   "execution_count": null,
   "metadata": {
    "scrolled": false
   },
   "outputs": [],
   "source": [
    "var saveMetadataRequest = new SaveMetadataRequest();\n",
    "saveMetadataRequest.Metadataheaders.Add(new List<string>{\"2001A1\", \"2001Q1\", \"2001M1\"});\n",
    "saveMetadataRequest.Seriesdata.Add(new MetadataList\n",
    "{\n",
    "    Key = new SourceSeriesKey\n",
    "    {\n",
    "        Sourcename = \"dmxe://localhost:5001/JupyterTesting.dmxe\", Seriesname = \"111a1\"\n",
    "    },\n",
    "    Values = {\"1\", \"2\", \"3\"}\n",
    "});\n",
    "\n",
    "var saveMetadataResponse = server.SaveMetadata(saveMetadataRequest, null).Result;\n",
    "Console.WriteLine(saveMetadataResponse);"
   ]
  },
  {
   "cell_type": "code",
   "execution_count": null,
   "metadata": {},
   "outputs": [],
   "source": [
    "var batchRequest = new BatchRequest {Iterations = 10, Convergence = true, Haltonerror = false};\n",
    "batchRequest.Batchrequests.AddRange(new List<BatchAction>\n",
    "{\n",
    "    new BatchAction\n",
    "    {\n",
    "        Workbook = \"DMXeSheet.xlsx\", Worksheet = \"Save\", Execute = true, Action = \"DMXe Save\", Status = \"\", Lastexecuted = \"\"\n",
    "    },\n",
    "    new BatchAction\n",
    "    {\n",
    "        Workbook = \"DMXeSheet.xlsx\", Worksheet = \"Refresh\", Execute = true, Action = \"DMXe Refresh\", Status = \"\", Lastexecuted = \"\"\n",
    "    }\n",
    "});\n",
    "var fileData = System.IO.File.ReadAllBytes(@\"C:\\Users\\kfrolov\\OneDrive - International Monetary Fund (PRD)\\ServerBatch\\DMXeSheet.xlsx\");\n",
    "batchRequest.Workbooks.Add(\"DMXeSheet.xlsx\", Google.Protobuf.ByteString.CopyFrom(fileData));\n",
    "var batchResponse = server.RunBatch(batchRequest, null).Result;\n",
    "//Console.WriteLine(batchResponse.Responsemetadata[\"IterationsCompleted\"]);"
   ]
  },
  {
   "cell_type": "code",
   "execution_count": null,
   "metadata": {},
   "outputs": [],
   "source": []
  }
 ],
 "metadata": {
  "kernelspec": {
   "display_name": ".NET (C#)",
   "language": "C#",
   "name": ".net-csharp"
  },
  "language_info": {
   "file_extension": ".cs",
   "mimetype": "text/x-csharp",
   "name": "C#",
   "pygments_lexer": "csharp",
   "version": "8.0"
  }
 },
 "nbformat": 4,
 "nbformat_minor": 4
}
