{
 "cells": [
  {
   "cell_type": "markdown",
   "metadata": {},
   "source": [
    "# DMXe scenarios\n",
    "\n",
    "### An interactive document with multiple areas of interaction with DMXe"
   ]
  },
  {
   "cell_type": "code",
   "execution_count": 8,
   "metadata": {
    "jupyter": {
     "source_hidden": true
    },
    "scrolled": true
   },
   "outputs": [
    {
     "name": "stdout",
     "output_type": "stream",
     "text": [
      "0.5.13\n"
     ]
    }
   ],
   "source": [
    "#r \"nuget:DMXiServer\"\n",
    "    \n",
    "#pragma warning disable CS1702  \n",
    "using aconcagua.server;\n",
    "using XPlot.Plotly;\n",
    "\n",
    "var server = new AconcaguaService(null);\n",
    "\n",
    "var getVersionResponse = server.GetVersion(null, null).Result;\n",
    "Console.WriteLine(getVersionResponse.Version);\n",
    "\n",
    "public static class SourceSeriesKeyList\n",
    "{\n",
    "    public static IEnumerable<SourceSeriesKey> Create(string sourceName, IEnumerable<string> _seriesList)\n",
    "    {\n",
    "        return _seriesList.Select(s => new SourceSeriesKey() { Sourcename = sourceName, Seriesname = s }).ToList();\n",
    "    }\n",
    "}"
   ]
  },
  {
   "cell_type": "code",
   "execution_count": 9,
   "metadata": {
    "jupyter": {
     "source_hidden": true
    },
    "scrolled": true
   },
   "outputs": [
    {
     "name": "stdout",
     "output_type": "stream",
     "text": [
      "dmxe://localhost:5001/brb_macrofw.dmxe\t 316NGDP: 42 observations\n",
      "dmxe://localhost:5001/brb_macrofw.dmxe\t 316NGDP_YOY: 41 observations\n"
     ]
    }
   ],
   "source": [
    "var getObservationsRequest = new GetObservationsRequest();\n",
    "getObservationsRequest.Keys.Add(\n",
    "                SourceSeriesKeyList.Create(\n",
    "                    \"dmxe://localhost:5001/brb_macrofw.dmxe\", new[] {\"316NGDP\", \"316NGDP_YOY\" }));\n",
    "    \n",
    "getObservationsRequest.Frequencies = \"A\";\n",
    "var getObservationsResponse = server.GetObservations(getObservationsRequest, null).Result;\n",
    "\n",
    "foreach(var seriesdata in getObservationsResponse.Seriesdata)\n",
    "{\n",
    "    Console.WriteLine($\"{seriesdata.Key.Sourcename}\\t {seriesdata.Key.Seriesname}: {seriesdata.Values.Count} observations\");\n",
    "}\n",
    "\n"
   ]
  },
  {
   "cell_type": "markdown",
   "metadata": {},
   "source": [
    "### First scenario \n",
    "\n",
    "Sed ut perspiciatis unde omnis iste natus error sit voluptatem accusantium doloremque laudantium, totam rem aperiam, eaque ipsa quae ab illo inventore veritatis et quasi architecto beatae vitae dicta sunt explicabo. Nemo enim ipsam voluptatem quia voluptas sit aspernatur aut odit aut fugit, sed quia consequuntur magni dolores eos qui ratione voluptatem sequi nesciunt. Neque porro quisquam est, qui dolorem ipsum quia dolor sit amet, consectetur, adipisci velit, sed quia non numquam eius modi tempora incidunt ut labore et dolore magnam aliquam quaerat voluptatem. Ut enim ad minima veniam, quis nostrum exercitationem ullam corporis suscipit laboriosam, nisi ut aliquid ex ea commodi consequatur? Quis autem vel eum iure reprehenderit qui in ea voluptate velit esse quam nihil molestiae consequatur, vel illum qui dolorem eum fugiat quo voluptas nulla pariatur?.\n"
   ]
  },
  {
   "cell_type": "code",
   "execution_count": 10,
   "metadata": {
    "jupyter": {
     "source_hidden": true
    }
   },
   "outputs": [
    {
     "data": {
      "text/html": [
       "<div id=\"bc6c9102-3cda-4732-b725-3f3499ab987f\" style=\"width: 900px; height: 500px;\"></div>\r\n",
       "<script type=\"text/javascript\">\r\n",
       "\r\n",
       "var renderPlotly = function() {\r\n",
       "    var xplotRequire = require.config({context:'xplot-3.0.1',paths:{plotly:'https://cdn.plot.ly/plotly-1.49.2.min'}}) || require;\r\n",
       "    xplotRequire(['plotly'], function(Plotly) {\r\n",
       "\n",
       "            var data = [{\"type\":\"scatter\",\"x\":[1994.0,1995.0,1996.0,1997.0,1998.0,1999.0,2000.0,2001.0,2002.0,2003.0,2004.0,2005.0,2006.0,2007.0,2008.0,2009.0,2010.0,2011.0,2012.0,2013.0,2014.0,2015.0,2016.0,2017.0,2018.0,2019.0,2020.0,2021.0,2022.0,2023.0,2024.0,2025.0,2026.0,2027.0,2028.0,2029.0,2030.0,2031.0,2032.0,2033.0,2034.0,2035.0],\"y\":[4326.87964216637,4458.791012884019,4754.27963589414,4458.791012884019,4754.27963589414,5025.1687085309395,5666.129104712099,5937.31219587926,6118.5256167567695,6109.019017608519,6212.80755882501,6419.11056095977,6888.560147765219,7639.189455770039,8434.90160509646,9348.01490498485,9569.8501580529,8931.31462928897,9059.856603993601,9315.39892446154,9220.19199034962,9354.49657893292,9392.688701649811,9430.00721985214,9660.01470516032,9833.10126872084,10085.7558056043,10477.7630073705,10919.217998347798,11381.241674208099,11861.0914187733,12362.680332750298,12884.1624331181,13428.930885746799,13997.532241264098,14590.209042864699,15207.980681548099,15851.9097108789,16523.1036745555,17222.7170113608,17951.9530407714,18712.0660326403]}];\n",
       "            var layout = \"\";\n",
       "            Plotly.newPlot('bc6c9102-3cda-4732-b725-3f3499ab987f', data, layout);\n",
       "        \r\n",
       "});\r\n",
       "};\r\n",
       "// ensure `require` is available globally\r\n",
       "if ((typeof(require) !==  typeof(Function)) || (typeof(require.config) !== typeof(Function))) {\r\n",
       "    let require_script = document.createElement('script');\r\n",
       "    require_script.setAttribute('src', 'https://cdnjs.cloudflare.com/ajax/libs/require.js/2.3.6/require.min.js');\r\n",
       "    require_script.setAttribute('type', 'text/javascript');\r\n",
       "    \r\n",
       "    \r\n",
       "    require_script.onload = function() {\r\n",
       "        renderPlotly();\r\n",
       "    };\r\n",
       "\r\n",
       "    document.getElementsByTagName('head')[0].appendChild(require_script);\r\n",
       "}\r\n",
       "else {\r\n",
       "    renderPlotly();\r\n",
       "}\r\n",
       "\r\n",
       "</script>\r\n"
      ]
     },
     "execution_count": 10,
     "metadata": {},
     "output_type": "execute_result"
    }
   ],
   "source": [
    "var xValues = new List<double>();\n",
    "var yValues = new List<double>();\n",
    "foreach(var keyValue in getObservationsResponse.Seriesdata[0].Values)\n",
    "{\n",
    "    yValues.Add(keyValue.Value);\n",
    "    xValues.Add(double.Parse(keyValue.Key.Substring(0,4)));\n",
    "}\n",
    "\n",
    "Chart.Plot( new Graph.Scatter { x = xValues, y = yValues })"
   ]
  },
  {
   "cell_type": "markdown",
   "metadata": {},
   "source": [
    "### Second scenario\n",
    "\n",
    "At vero eos et accusamus et iusto odio dignissimos ducimus qui blanditiis praesentium voluptatum deleniti atque corrupti quos dolores et quas molestias excepturi sint occaecati cupiditate non provident, similique sunt in culpa qui officia deserunt mollitia animi, id est laborum et dolorum fuga. Et harum quidem rerum facilis est et expedita distinctio. Nam libero tempore, cum soluta nobis est eligendi optio cumque nihil impedit quo minus id quod maxime placeat facere possimus, omnis voluptas assumenda est, omnis dolor repellendus. Temporibus autem quibusdam et aut officiis debitis aut rerum necessitatibus saepe eveniet ut et voluptates repudiandae sint et molestiae non recusandae. Itaque earum rerum hic tenetur a sapiente delectus, ut aut reiciendis voluptatibus maiores alias consequatur aut perferendis doloribus asperiores repellat."
   ]
  },
  {
   "cell_type": "code",
   "execution_count": 7,
   "metadata": {
    "jupyter": {
     "source_hidden": true
    }
   },
   "outputs": [
    {
     "data": {
      "text/html": [
       "<div id=\"5dbb3168-1949-4c68-b97e-15df2b474e73\" style=\"width: 900px; height: 500px;\"></div>\r\n",
       "<script type=\"text/javascript\">\r\n",
       "\r\n",
       "var renderPlotly = function() {\r\n",
       "    var xplotRequire = require.config({context:'xplot-3.0.1',paths:{plotly:'https://cdn.plot.ly/plotly-1.49.2.min'}}) || require;\r\n",
       "    xplotRequire(['plotly'], function(Plotly) {\r\n",
       "\n",
       "            var data = [{\"type\":\"scatter\",\"x\":[1994.0,1995.0,1996.0,1997.0,1998.0,1999.0,2000.0,2001.0,2002.0,2003.0,2004.0,2005.0,2006.0,2007.0,2008.0,2009.0,2010.0,2011.0,2012.0,2013.0,2014.0,2015.0,2016.0,2017.0,2018.0,2019.0,2020.0,2021.0,2022.0,2023.0,2024.0,2025.0,2026.0,2027.0,2028.0,2029.0,2030.0,2031.0,2032.0,2033.0,2034.0,2035.0],\"y\":[4326.87964216637,4458.791012884019,4754.27963589414,4458.791012884019,4754.27963589414,5025.1687085309395,5666.129104712099,5937.31219587926,6118.5256167567695,6109.019017608519,6212.80755882501,6419.11056095977,6888.560147765219,7639.189455770039,8434.90160509646,9348.01490498485,9569.8501580529,8931.31462928897,9059.856603993601,9315.39892446154,9220.19199034962,9354.49657893292,9392.688701649811,9430.00721985214,9660.01470516032,9833.10126872084,10085.7558056043,10477.7630073705,10919.217998347798,11381.241674208099,11861.0914187733,12362.680332750298,12884.1624331181,13428.930885746799,13997.532241264098,14590.209042864699,15207.980681548099,15851.9097108789,16523.1036745555,17222.7170113608,17951.9530407714,18712.0660326403]}];\n",
       "            var layout = \"\";\n",
       "            Plotly.newPlot('5dbb3168-1949-4c68-b97e-15df2b474e73', data, layout);\n",
       "        \r\n",
       "});\r\n",
       "};\r\n",
       "// ensure `require` is available globally\r\n",
       "if ((typeof(require) !==  typeof(Function)) || (typeof(require.config) !== typeof(Function))) {\r\n",
       "    let require_script = document.createElement('script');\r\n",
       "    require_script.setAttribute('src', 'https://cdnjs.cloudflare.com/ajax/libs/require.js/2.3.6/require.min.js');\r\n",
       "    require_script.setAttribute('type', 'text/javascript');\r\n",
       "    \r\n",
       "    \r\n",
       "    require_script.onload = function() {\r\n",
       "        renderPlotly();\r\n",
       "    };\r\n",
       "\r\n",
       "    document.getElementsByTagName('head')[0].appendChild(require_script);\r\n",
       "}\r\n",
       "else {\r\n",
       "    renderPlotly();\r\n",
       "}\r\n",
       "\r\n",
       "</script>\r\n"
      ]
     },
     "execution_count": 7,
     "metadata": {},
     "output_type": "execute_result"
    }
   ],
   "source": [
    "using XPlot.Plotly;\n",
    "Chart.Plot( new Graph.Scatter { x = xValues, y = yValues })"
   ]
  },
  {
   "cell_type": "code",
   "execution_count": null,
   "metadata": {},
   "outputs": [],
   "source": []
  }
 ],
 "metadata": {
  "kernelspec": {
   "display_name": ".NET (C#)",
   "language": "C#",
   "name": ".net-csharp"
  },
  "language_info": {
   "file_extension": ".cs",
   "mimetype": "text/x-csharp",
   "name": "C#",
   "pygments_lexer": "csharp",
   "version": "8.0"
  }
 },
 "nbformat": 4,
 "nbformat_minor": 4
}
