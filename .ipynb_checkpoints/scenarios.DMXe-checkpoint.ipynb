{
 "cells": [
  {
   "cell_type": "markdown",
   "metadata": {},
   "source": [
    "# DMXe scenarios\n",
    "\n",
    "### An interactive document with multiple areas of interaction with DMXe"
   ]
  },
  {
   "cell_type": "code",
   "execution_count": null,
   "metadata": {
    "jupyter": {
     "source_hidden": true
    },
    "scrolled": true
   },
   "outputs": [],
   "source": [
    "#r \"nuget:DMXiServer\"\n",
    "    \n",
    "#pragma warning disable CS1702  \n",
    "using aconcagua.server;\n",
    "using XPlot.Plotly;\n",
    "\n",
    "var server = new AconcaguaService(null);\n",
    "\n",
    "var getVersionResponse = server.GetVersion(null, null).Result;\n",
    "Console.WriteLine(getVersionResponse.Version);\n",
    "\n",
    "public static class SourceSeriesKeyList\n",
    "{\n",
    "    public static IEnumerable<SourceSeriesKey> Create(string sourceName, IEnumerable<string> _seriesList)\n",
    "    {\n",
    "        return _seriesList.Select(s => new SourceSeriesKey() { Sourcename = sourceName, Seriesname = s }).ToList();\n",
    "    }\n",
    "}"
   ]
  },
  {
   "cell_type": "code",
   "execution_count": null,
   "metadata": {
    "jupyter": {
     "source_hidden": true
    },
    "scrolled": true
   },
   "outputs": [],
   "source": [
    "var getObservationsRequest = new GetObservationsRequest();\n",
    "getObservationsRequest.Keys.Add(\n",
    "                SourceSeriesKeyList.Create(\n",
    "                    \"dmxe://localhost:5001/brb_macrofw.dmxe\", new[] {\"316NGDP\", \"316NGDP_YOY\" }));\n",
    "    \n",
    "getObservationsRequest.Frequencies = \"A\";\n",
    "var getObservationsResponse = server.GetObservations(getObservationsRequest, null).Result;\n",
    "\n",
    "foreach(var seriesdata in getObservationsResponse.Seriesdata)\n",
    "{\n",
    "    Console.WriteLine($\"{seriesdata.Key.Sourcename}\\t {seriesdata.Key.Seriesname}: {seriesdata.Values.Count} observations\");\n",
    "}\n",
    "\n"
   ]
  },
  {
   "cell_type": "markdown",
   "metadata": {},
   "source": [
    "### First scenario \n",
    "\n",
    "Sed ut perspiciatis unde omnis iste natus error sit voluptatem accusantium doloremque laudantium, totam rem aperiam, eaque ipsa quae ab illo inventore veritatis et quasi architecto beatae vitae dicta sunt explicabo. Nemo enim ipsam voluptatem quia voluptas sit aspernatur aut odit aut fugit, sed quia consequuntur magni dolores eos qui ratione voluptatem sequi nesciunt. Neque porro quisquam est, qui dolorem ipsum quia dolor sit amet, consectetur, adipisci velit, sed quia non numquam eius modi tempora incidunt ut labore et dolore magnam aliquam quaerat voluptatem. Ut enim ad minima veniam, quis nostrum exercitationem ullam corporis suscipit laboriosam, nisi ut aliquid ex ea commodi consequatur? Quis autem vel eum iure reprehenderit qui in ea voluptate velit esse quam nihil molestiae consequatur, vel illum qui dolorem eum fugiat quo voluptas nulla pariatur?.\n"
   ]
  },
  {
   "cell_type": "code",
   "execution_count": null,
   "metadata": {
    "jupyter": {
     "source_hidden": true
    }
   },
   "outputs": [],
   "source": [
    "var xValues = new List<double>();\n",
    "var yValues = new List<double>();\n",
    "foreach(var keyValue in getObservationsResponse.Seriesdata[0].Values)\n",
    "{\n",
    "    yValues.Add(keyValue.Value);\n",
    "    xValues.Add(double.Parse(keyValue.Key.Substring(0,4)));\n",
    "}\n",
    "\n",
    "Chart.Plot( new Graph.Scatter { x = xValues, y = yValues })"
   ]
  },
  {
   "cell_type": "markdown",
   "metadata": {},
   "source": [
    "### Second scenario\n",
    "\n",
    "At vero eos et accusamus et iusto odio dignissimos ducimus qui blanditiis praesentium voluptatum deleniti atque corrupti quos dolores et quas molestias excepturi sint occaecati cupiditate non provident, similique sunt in culpa qui officia deserunt mollitia animi, id est laborum et dolorum fuga. Et harum quidem rerum facilis est et expedita distinctio. Nam libero tempore, cum soluta nobis est eligendi optio cumque nihil impedit quo minus id quod maxime placeat facere possimus, omnis voluptas assumenda est, omnis dolor repellendus. Temporibus autem quibusdam et aut officiis debitis aut rerum necessitatibus saepe eveniet ut et voluptates repudiandae sint et molestiae non recusandae. Itaque earum rerum hic tenetur a sapiente delectus, ut aut reiciendis voluptatibus maiores alias consequatur aut perferendis doloribus asperiores repellat."
   ]
  },
  {
   "cell_type": "code",
   "execution_count": null,
   "metadata": {
    "jupyter": {
     "source_hidden": true
    }
   },
   "outputs": [],
   "source": [
    "using XPlot.Plotly;\n",
    "Chart.Plot( new Graph.Scatter { x = xValues, y = yValues })"
   ]
  },
  {
   "cell_type": "code",
   "execution_count": null,
   "metadata": {},
   "outputs": [],
   "source": []
  }
 ],
 "metadata": {
  "kernelspec": {
   "display_name": ".NET (C#)",
   "language": "C#",
   "name": ".net-csharp"
  },
  "language_info": {
   "file_extension": ".cs",
   "mimetype": "text/x-csharp",
   "name": "C#",
   "pygments_lexer": "csharp",
   "version": "8.0"
  }
 },
 "nbformat": 4,
 "nbformat_minor": 4
}
