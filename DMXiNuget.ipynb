{
 "cells": [
  {
   "cell_type": "markdown",
   "metadata": {},
   "source": [
    "# DMXe though Jupyter Notebooks\n",
    "\n",
    "\n",
    "### Install the DMXe/DMXi package from NuGet."
   ]
  },
  {
   "cell_type": "code",
   "execution_count": 1,
   "metadata": {
    "jupyter": {
     "source_hidden": true
    },
    "scrolled": true
   },
   "outputs": [
    {
     "data": {
      "text/html": [
       "\r\n",
       "<div>\r\n",
       "    <div id='dotnet-interactive-this-cell-9764.Microsoft.DotNet.Interactive.Http.HttpPort' style='display: none'>\r\n",
       "        The below script needs to be able to find the current output cell; this is an easy method to get it.\r\n",
       "    </div>\r\n",
       "    <script type='text/javascript'>\r\n",
       "async function probeAddresses(probingAddresses) {\r\n",
       "    function timeout(ms, promise) {\r\n",
       "        return new Promise(function (resolve, reject) {\r\n",
       "            setTimeout(function () {\r\n",
       "                reject(new Error('timeout'))\r\n",
       "            }, ms)\r\n",
       "            promise.then(resolve, reject)\r\n",
       "        })\r\n",
       "    }\r\n",
       "\r\n",
       "    if (Array.isArray(probingAddresses)) {\r\n",
       "        for (let i = 0; i < probingAddresses.length; i++) {\r\n",
       "\r\n",
       "            let rootUrl = probingAddresses[i];\r\n",
       "\r\n",
       "            if (!rootUrl.endsWith('/')) {\r\n",
       "                rootUrl = `${rootUrl}/`;\r\n",
       "            }\r\n",
       "\r\n",
       "            try {\r\n",
       "                let response = await timeout(1000, fetch(`${rootUrl}discovery`, {\r\n",
       "                    method: 'POST',\r\n",
       "                    cache: 'no-cache',\r\n",
       "                    mode: 'cors',\r\n",
       "                    timeout: 1000,\r\n",
       "                    headers: {\r\n",
       "                        'Content-Type': 'text/plain'\r\n",
       "                    },\r\n",
       "                    body: probingAddresses[i]\r\n",
       "                }));\r\n",
       "\r\n",
       "                if (response.status == 200) {\r\n",
       "                    return rootUrl;\r\n",
       "                }\r\n",
       "            }\r\n",
       "            catch (e) { }\r\n",
       "        }\r\n",
       "    }\r\n",
       "}\r\n",
       "\r\n",
       "function loadDotnetInteractiveApi() {\r\n",
       "    probeAddresses([\"http://10.0.0.40:1007/\", \"http://172.17.223.177:1007/\", \"http://192.168.169.193:1007/\", \"http://127.0.0.1:1007/\"])\r\n",
       "        .then((root) => {\r\n",
       "        // use probing to find host url and api resources\r\n",
       "        // load interactive helpers and language services\r\n",
       "        let dotnetInteractiveRequire = require.config({\r\n",
       "        context: '9764.Microsoft.DotNet.Interactive.Http.HttpPort',\r\n",
       "                paths:\r\n",
       "            {\r\n",
       "                'dotnet-interactive': `${root}resources`\r\n",
       "                }\r\n",
       "        }) || require;\r\n",
       "\r\n",
       "            window.dotnetInteractiveRequire = dotnetInteractiveRequire;\r\n",
       "\r\n",
       "            window.configureRequireFromExtension = function(extensionName, extensionCacheBuster) {\r\n",
       "                let paths = {};\r\n",
       "                paths[extensionName] = `${root}extensions/${extensionName}/resources/`;\r\n",
       "                \r\n",
       "                let internalRequire = require.config({\r\n",
       "                    context: extensionCacheBuster,\r\n",
       "                    paths: paths,\r\n",
       "                    urlArgs: `cacheBuster=${extensionCacheBuster}`\r\n",
       "                    }) || require;\r\n",
       "\r\n",
       "                return internalRequire\r\n",
       "            };\r\n",
       "        \r\n",
       "            dotnetInteractiveRequire([\r\n",
       "                    'dotnet-interactive/dotnet-interactive'\r\n",
       "                ],\r\n",
       "                function (dotnet) {\r\n",
       "                    dotnet.init(window);\r\n",
       "                },\r\n",
       "                function (error) {\r\n",
       "                    console.log(error);\r\n",
       "                }\r\n",
       "            );\r\n",
       "        })\r\n",
       "        .catch(error => {console.log(error);});\r\n",
       "    }\r\n",
       "\r\n",
       "// ensure `require` is available globally\r\n",
       "if ((typeof(require) !==  typeof(Function)) || (typeof(require.config) !== typeof(Function))) {\r\n",
       "    let require_script = document.createElement('script');\r\n",
       "    require_script.setAttribute('src', 'https://cdnjs.cloudflare.com/ajax/libs/require.js/2.3.6/require.min.js');\r\n",
       "    require_script.setAttribute('type', 'text/javascript');\r\n",
       "    \r\n",
       "    \r\n",
       "    require_script.onload = function() {\r\n",
       "        loadDotnetInteractiveApi();\r\n",
       "    };\r\n",
       "\r\n",
       "    document.getElementsByTagName('head')[0].appendChild(require_script);\r\n",
       "}\r\n",
       "else {\r\n",
       "    loadDotnetInteractiveApi();\r\n",
       "}\r\n",
       "\r\n",
       "    </script>\r\n",
       "</div>"
      ]
     },
     "metadata": {},
     "output_type": "display_data"
    },
    {
     "data": {
      "text/plain": [
       "Installed package DMXiServer version 0.5.13"
      ]
     },
     "metadata": {},
     "output_type": "display_data"
    }
   ],
   "source": [
    "#r \"nuget:DMXiServer\""
   ]
  },
  {
   "cell_type": "markdown",
   "metadata": {},
   "source": [
    "### Check the package's version."
   ]
  },
  {
   "cell_type": "code",
   "execution_count": 2,
   "metadata": {
    "scrolled": true
   },
   "outputs": [
    {
     "name": "stdout",
     "output_type": "stream",
     "text": [
      "Current version: 0.5.13\r\n"
     ]
    }
   ],
   "source": [
    "#pragma warning disable CS1702  \n",
    "using aconcagua.server;\n",
    "\n",
    "var server = new AconcaguaService(null);\n",
    "var getVersionResponse = server.GetVersion(null, null).Result;\n",
    "Console.WriteLine($\"Current version: {getVersionResponse.Version}\");"
   ]
  },
  {
   "cell_type": "markdown",
   "metadata": {},
   "source": [
    "### Let's find some databases in your local working folder."
   ]
  },
  {
   "cell_type": "code",
   "execution_count": 3,
   "metadata": {
    "jupyter": {
     "source_hidden": true
    },
    "scrolled": false
   },
   "outputs": [
    {
     "name": "stdout",
     "output_type": "stream",
     "text": [
      "dmxe,brb_hist.dmxe\n",
      "dmxe,brb_macrofw.dmxe\n",
      "dmxe,JupyterTesting.20201214040211.dmxe\n",
      "dmxe,JupyterTesting.dmxe\n",
      "ecos,ECDATA_MFS\n"
     ]
    }
   ],
   "source": [
    "var getDatabasesResponse = server.GetDatabases(null, null).Result;\n",
    "\n",
    "foreach(var db in getDatabasesResponse.Sourcenames)\n",
    "{\n",
    "    Console.WriteLine(db);\n",
    "}"
   ]
  },
  {
   "cell_type": "markdown",
   "metadata": {},
   "source": [
    "### Now to search for some series codes within some database."
   ]
  },
  {
   "cell_type": "code",
   "execution_count": 4,
   "metadata": {
    "jupyter": {
     "source_hidden": true
    },
    "scrolled": true
   },
   "outputs": [
    {
     "name": "stdout",
     "output_type": "stream",
     "text": [
      "dmxe://localhost:5001/brb_macrofw.dmxe\t316NGDP\n",
      "1994A1\t4326.87964216637\n",
      "1995A1\t4458.791012884019\n",
      "1996A1\t4754.27963589414\n",
      "1997A1\t4458.791012884019\n",
      "1998A1\t4754.27963589414\n",
      "1999A1\t5025.1687085309395\n",
      "2000A1\t5666.129104712099\n",
      "2001A1\t5937.31219587926\n",
      "2002A1\t6118.5256167567695\n",
      "2003A1\t6109.019017608519\n",
      "2004A1\t6212.80755882501\n",
      "2005A1\t6419.11056095977\n",
      "2006A1\t6888.560147765219\n",
      "2007A1\t7639.189455770039\n",
      "2008A1\t8434.90160509646\n",
      "2009A1\t9348.01490498485\n",
      "2010A1\t9569.8501580529\n",
      "2011A1\t8931.31462928897\n",
      "2012A1\t9059.856603993601\n",
      "2013A1\t9315.39892446154\n",
      "2014A1\t9220.19199034962\n",
      "2015A1\t9354.49657893292\n",
      "2016A1\t9392.688701649811\n",
      "2017A1\t9430.00721985214\n",
      "2018A1\t9660.01470516032\n",
      "2019A1\t9833.10126872084\n",
      "2020A1\t10085.7558056043\n",
      "2021A1\t10477.7630073705\n",
      "2022A1\t10919.217998347798\n",
      "2023A1\t11381.241674208099\n",
      "2024A1\t11861.0914187733\n",
      "2025A1\t12362.680332750298\n",
      "2026A1\t12884.1624331181\n",
      "2027A1\t13428.930885746799\n",
      "2028A1\t13997.532241264098\n",
      "2029A1\t14590.209042864699\n",
      "2030A1\t15207.980681548099\n",
      "2031A1\t15851.9097108789\n",
      "2032A1\t16523.1036745555\n",
      "2033A1\t17222.7170113608\n",
      "2034A1\t17951.9530407714\n",
      "2035A1\t18712.0660326403\n",
      "dmxe://localhost:5001/brb_macrofw.dmxe\t316NGDP_YOY\n",
      "1995A1\t5.14631634491305\n",
      "1996A1\t6.62710187932742\n",
      "1997A1\t5.69779426922288\n",
      "1998A1\t6.62710187932742\n",
      "1999A1\t5.69779426922288\n",
      "2000A1\t12.7550025353981\n",
      "2001A1\t4.78603798387933\n",
      "2002A1\t3.05211204833182\n",
      "2003A1\t-0.155374018901044\n",
      "2004A1\t1.69893956652176\n",
      "2005A1\t3.32060827864709\n",
      "2006A1\t7.31331206009433\n",
      "2007A1\t10.896751888685\n",
      "2008A1\t10.4161855643652\n",
      "2009A1\t10.8254173271764\n",
      "2010A1\t2.37307337785433\n",
      "2011A1\t-6.67236705087393\n",
      "2012A1\t1.43922793048963\n",
      "2013A1\t2.82060005624469\n",
      "2014A1\t-1.02203818520221\n",
      "2015A1\t1.45663548789297\n",
      "2016A1\t0.40827555384324\n",
      "2017A1\t0.397314543127392\n",
      "2018A1\t2.43910190040961\n",
      "2019A1\t1.79178364467762\n",
      "2020A1\t2.56942880967899\n",
      "2021A1\t3.88674095746411\n",
      "2022A1\t4.21325611837904\n",
      "2023A1\t4.23128905321046\n",
      "2024A1\t4.21614581520267\n",
      "2025A1\t4.22885969147075\n",
      "2026A1\t4.2181961057937\n",
      "2027A1\t4.22820230229635\n",
      "2028A1\t4.23415207327345\n",
      "2029A1\t4.23415207327345\n",
      "2030A1\t4.23415207327347\n",
      "2031A1\t4.23415207327342\n",
      "2032A1\t4.23415207327347\n",
      "2033A1\t4.23415207327342\n",
      "2034A1\t4.23415207327349\n",
      "2035A1\t4.23415207327349\n"
     ]
    }
   ],
   "source": [
    "internal static class SourceSeriesKeyList\n",
    "{\n",
    "    public static IEnumerable<SourceSeriesKey> Create(string sourceName, IEnumerable<string> _seriesList)\n",
    "    {\n",
    "        return _seriesList.Select(s => new SourceSeriesKey() { Sourcename = sourceName, Seriesname = s }).ToList();\n",
    "    }\n",
    "}\n",
    "var getObservationsRequest = new GetObservationsRequest();\n",
    "getObservationsRequest.Keys.Add(\n",
    "    SourceSeriesKeyList.Create(\"dmxe://localhost:5001/brb_macrofw.dmxe\", new[] {\"316NGDP\", \"316NGDP_YOY\"}));\n",
    "\n",
    "getObservationsRequest.Frequencies = \"A\";\n",
    "var getObservationsResponse = server.GetObservations(getObservationsRequest, null).Result;\n",
    "\n",
    "foreach(var seriesdata in getObservationsResponse.Seriesdata)\n",
    "{\n",
    "    Console.WriteLine(seriesdata.Key.Sourcename + \"\\t\" + seriesdata.Key.Seriesname);\n",
    "    foreach(var keyValue in seriesdata.Values)\n",
    "    {\n",
    "        Console.WriteLine(keyValue.Key + \"\\t\" + keyValue.Value);\n",
    "    }\n",
    "}\n"
   ]
  },
  {
   "cell_type": "markdown",
   "metadata": {},
   "source": [
    "### We can utilize a visualization library to create a chart from this obervation data."
   ]
  },
  {
   "cell_type": "code",
   "execution_count": 5,
   "metadata": {
    "jupyter": {
     "source_hidden": true
    },
    "scrolled": false
   },
   "outputs": [
    {
     "data": {
      "text/html": [
       "<div id=\"1d07cbf1-ac77-449c-aa03-fedfaf157236\" style=\"width: 900px; height: 500px;\"></div>\r\n",
       "<script type=\"text/javascript\">\r\n",
       "\r\n",
       "var renderPlotly = function() {\r\n",
       "    var xplotRequire = require.config({context:'xplot-3.0.1',paths:{plotly:'https://cdn.plot.ly/plotly-1.49.2.min'}}) || require;\r\n",
       "    xplotRequire(['plotly'], function(Plotly) {\r\n",
       "\n",
       "            var data = [{\"type\":\"scatter\",\"x\":[1994.0,1995.0,1996.0,1997.0,1998.0,1999.0,2000.0,2001.0,2002.0,2003.0,2004.0,2005.0,2006.0,2007.0,2008.0,2009.0,2010.0,2011.0,2012.0,2013.0,2014.0,2015.0,2016.0,2017.0,2018.0,2019.0,2020.0,2021.0,2022.0,2023.0,2024.0,2025.0,2026.0,2027.0,2028.0,2029.0,2030.0,2031.0,2032.0,2033.0,2034.0,2035.0,1995.0,1996.0,1997.0,1998.0,1999.0,2000.0,2001.0,2002.0,2003.0,2004.0,2005.0,2006.0,2007.0,2008.0,2009.0,2010.0,2011.0,2012.0,2013.0,2014.0,2015.0,2016.0,2017.0,2018.0,2019.0,2020.0,2021.0,2022.0,2023.0,2024.0,2025.0,2026.0,2027.0,2028.0,2029.0,2030.0,2031.0,2032.0,2033.0,2034.0,2035.0],\"y\":[4326.87964216637,4458.791012884019,4754.27963589414,4458.791012884019,4754.27963589414,5025.1687085309395,5666.129104712099,5937.31219587926,6118.5256167567695,6109.019017608519,6212.80755882501,6419.11056095977,6888.560147765219,7639.189455770039,8434.90160509646,9348.01490498485,9569.8501580529,8931.31462928897,9059.856603993601,9315.39892446154,9220.19199034962,9354.49657893292,9392.688701649811,9430.00721985214,9660.01470516032,9833.10126872084,10085.7558056043,10477.7630073705,10919.217998347798,11381.241674208099,11861.0914187733,12362.680332750298,12884.1624331181,13428.930885746799,13997.532241264098,14590.209042864699,15207.980681548099,15851.9097108789,16523.1036745555,17222.7170113608,17951.9530407714,18712.0660326403,5.14631634491305,6.62710187932742,5.69779426922288,6.62710187932742,5.69779426922288,12.7550025353981,4.78603798387933,3.05211204833182,-0.155374018901044,1.69893956652176,3.32060827864709,7.31331206009433,10.896751888685,10.4161855643652,10.8254173271764,2.37307337785433,-6.67236705087393,1.43922793048963,2.82060005624469,-1.02203818520221,1.45663548789297,0.40827555384324,0.397314543127392,2.43910190040961,1.79178364467762,2.56942880967899,3.88674095746411,4.21325611837904,4.23128905321046,4.21614581520267,4.22885969147075,4.2181961057937,4.22820230229635,4.23415207327345,4.23415207327345,4.23415207327347,4.23415207327342,4.23415207327347,4.23415207327342,4.23415207327349,4.23415207327349]}];\n",
       "            var layout = \"\";\n",
       "            Plotly.newPlot('1d07cbf1-ac77-449c-aa03-fedfaf157236', data, layout);\n",
       "        \r\n",
       "});\r\n",
       "};\r\n",
       "// ensure `require` is available globally\r\n",
       "if ((typeof(require) !==  typeof(Function)) || (typeof(require.config) !== typeof(Function))) {\r\n",
       "    let require_script = document.createElement('script');\r\n",
       "    require_script.setAttribute('src', 'https://cdnjs.cloudflare.com/ajax/libs/require.js/2.3.6/require.min.js');\r\n",
       "    require_script.setAttribute('type', 'text/javascript');\r\n",
       "    \r\n",
       "    \r\n",
       "    require_script.onload = function() {\r\n",
       "        renderPlotly();\r\n",
       "    };\r\n",
       "\r\n",
       "    document.getElementsByTagName('head')[0].appendChild(require_script);\r\n",
       "}\r\n",
       "else {\r\n",
       "    renderPlotly();\r\n",
       "}\r\n",
       "\r\n",
       "</script>\r\n"
      ]
     },
     "execution_count": 5,
     "metadata": {},
     "output_type": "execute_result"
    }
   ],
   "source": [
    "using XPlot.Plotly;\n",
    "\n",
    "var xValues = new List<double>();\n",
    "var yValues = new List<double>();\n",
    "foreach(var keyValue in getObservationsResponse.Seriesdata[0].Values)\n",
    "{\n",
    "    yValues.Add(keyValue.Value);\n",
    "    xValues.Add(double.Parse(keyValue.Key.Substring(0,4)));\n",
    "}\n",
    "    \n",
    "foreach(var keyValue in getObservationsResponse.Seriesdata[1].Values)\n",
    "{\n",
    "    yValues.Add(keyValue.Value);\n",
    "    xValues.Add(double.Parse(keyValue.Key.Substring(0,4)));\n",
    "}\n",
    "    \n",
    "Chart.Plot(\n",
    "    new Graph.Scatter\n",
    "    {\n",
    "        x = xValues,\n",
    "        y = yValues\n",
    "    }\n",
    ")"
   ]
  },
  {
   "cell_type": "markdown",
   "metadata": {},
   "source": [
    "### We can use a third party library to give Python-like data frame capabilities."
   ]
  },
  {
   "cell_type": "code",
   "execution_count": 6,
   "metadata": {
    "jupyter": {
     "source_hidden": true
    },
    "scrolled": true
   },
   "outputs": [
    {
     "data": {
      "text/plain": [
       "Installed package Deedle version 2.3.0"
      ]
     },
     "metadata": {},
     "output_type": "display_data"
    },
    {
     "data": {
      "text/plain": [
       "Installed package Microsoft.Data.Analysis version 0.2.0"
      ]
     },
     "metadata": {},
     "output_type": "display_data"
    }
   ],
   "source": [
    "#r \"nuget:Microsoft.Data.Analysis,0.2.0\"\n",
    "    using Microsoft.Data.Analysis;\n",
    "    \n",
    "#r \"nuget:Deedle,2.3.0\"\n",
    "    using Deedle;\n"
   ]
  },
  {
   "cell_type": "code",
   "execution_count": 7,
   "metadata": {
    "scrolled": false
   },
   "outputs": [
    {
     "name": "stdout",
     "output_type": "stream",
     "text": [
      "1994 -> 4326.87964216637   \r\n",
      "1995 -> 4458.791012884019  \r\n",
      "1996 -> 4754.27963589414   \r\n",
      "1997 -> 4458.791012884019  \r\n",
      "1998 -> 4754.27963589414   \r\n",
      "1999 -> 5025.1687085309395 \r\n",
      "2000 -> 5666.129104712099  \r\n",
      "2001 -> 5937.31219587926   \r\n",
      "2002 -> 6118.5256167567695 \r\n",
      "2003 -> 6109.019017608519  \r\n",
      "2004 -> 6212.80755882501   \r\n",
      "2005 -> 6419.11056095977   \r\n",
      "2006 -> 6888.560147765219  \r\n",
      "2007 -> 7639.189455770039  \r\n",
      "2008 -> 8434.90160509646   \r\n",
      "...  -> ...                \r\n",
      "2021 -> 10477.7630073705   \r\n",
      "2022 -> 10919.217998347798 \r\n",
      "2023 -> 11381.241674208099 \r\n",
      "2024 -> 11861.0914187733   \r\n",
      "2025 -> 12362.680332750298 \r\n",
      "2026 -> 12884.1624331181   \r\n",
      "2027 -> 13428.930885746799 \r\n",
      "2028 -> 13997.532241264098 \r\n",
      "2029 -> 14590.209042864699 \r\n",
      "2030 -> 15207.980681548099 \r\n",
      "2031 -> 15851.9097108789   \r\n",
      "2032 -> 16523.1036745555   \r\n",
      "2033 -> 17222.7170113608   \r\n",
      "2034 -> 17951.9530407714   \r\n",
      "2035 -> 18712.0660326403   \r\n",
      "\r\n"
     ]
    }
   ],
   "source": [
    "\n",
    "var s1 = \n",
    "        (from keyValue in getObservationsResponse.Seriesdata[0].Values\n",
    "            select KeyValue.Create(int.Parse(keyValue.Key.Substring(0,4)), keyValue.Value))\n",
    "        .ToSeries();\n",
    "s1.Print();\n"
   ]
  },
  {
   "cell_type": "markdown",
   "metadata": {},
   "source": [
    "We are not limited to just query data, we can utilize DMXe save functionality."
   ]
  },
  {
   "cell_type": "code",
   "execution_count": 10,
   "metadata": {
    "scrolled": true
   },
   "outputs": [
    {
     "name": "stderr",
     "output_type": "stream",
     "text": [
      "\r\n",
      "(12,48): error CS1503: Argument 1: cannot convert from 'aconcagua.server.SaveMetadataRequest [C:\\Users\\Jerry\\.nuget\\packages\\dmxiserver\\0.5.13\\lib\\netcoreapp3.1\\aconcagua.server.dll]' to 'aconcagua.server.SaveMetadataRequest [aconcagua.server, Version=0.5.13.0, Culture=neutral, PublicKeyToken=null]'\r\n",
      "\r\n"
     ]
    },
    {
     "ename": "Cell not executed",
     "evalue": "compilation error",
     "output_type": "error",
     "traceback": []
    }
   ],
   "source": [
    "var saveMetadataRequest = new SaveMetadataRequest();\n",
    "saveMetadataRequest.Metadataheaders.Add(new List<string>{\"2001A1\", \"2001Q1\", \"2001M1\"});\n",
    "saveMetadataRequest.Seriesdata.Add(new MetadataList\n",
    "{\n",
    "    Key = new SourceSeriesKey\n",
    "    {\n",
    "        Sourcename = \"dmxe://localhost:5001/JupyterTesting.dmxe\", Seriesname = \"111a1\"\n",
    "    },\n",
    "    Values = {\"1\", \"2\", \"3\"}\n",
    "});\n",
    "\n",
    "var saveMetadataResponse = server.SaveMetadata(saveMetadataRequest, null).Result;\n",
    "Console.WriteLine(saveMetadataResponse);"
   ]
  },
  {
   "cell_type": "code",
   "execution_count": 11,
   "metadata": {
    "scrolled": true
   },
   "outputs": [
    {
     "name": "stderr",
     "output_type": "stream",
     "text": [
      "\r\n",
      "(15,37): error CS1503: Argument 1: cannot convert from 'aconcagua.server.BatchRequest [C:\\Users\\Jerry\\.nuget\\packages\\dmxiserver\\0.5.13\\lib\\netcoreapp3.1\\aconcagua.server.dll]' to 'aconcagua.server.BatchRequest [aconcagua.server, Version=0.5.13.0, Culture=neutral, PublicKeyToken=null]'\r\n",
      "\r\n"
     ]
    },
    {
     "ename": "Cell not executed",
     "evalue": "compilation error",
     "output_type": "error",
     "traceback": []
    }
   ],
   "source": [
    "var batchRequest = new BatchRequest {Iterations = 10, Convergence = true, Haltonerror = false};\n",
    "batchRequest.Batchrequests.AddRange(new List<BatchAction>\n",
    "{\n",
    "    new BatchAction\n",
    "    {\n",
    "        Workbook = \"DMXeSheet.xlsx\", Worksheet = \"Save\", Execute = true, Action = \"DMXe Save\", Status = \"\", Lastexecuted = \"\"\n",
    "    },\n",
    "    new BatchAction\n",
    "    {\n",
    "        Workbook = \"DMXeSheet.xlsx\", Worksheet = \"Refresh\", Execute = true, Action = \"DMXe Refresh\", Status = \"\", Lastexecuted = \"\"\n",
    "    }\n",
    "});\n",
    "var fileData = System.IO.File.ReadAllBytes(@\"C:\\Users\\kfrolov\\OneDrive - International Monetary Fund (PRD)\\ServerBatch\\DMXeSheet.xlsx\");\n",
    "batchRequest.Workbooks.Add(\"DMXeSheet.xlsx\", Google.Protobuf.ByteString.CopyFrom(fileData));\n",
    "var batchResponse = server.RunBatch(batchRequest, null).Result;\n",
    "//Console.WriteLine(batchResponse.Responsemetadata[\"IterationsCompleted\"]);"
   ]
  },
  {
   "cell_type": "code",
   "execution_count": null,
   "metadata": {
    "scrolled": true
   },
   "outputs": [],
   "source": []
  }
 ],
 "metadata": {
  "kernelspec": {
   "display_name": ".NET (C#)",
   "language": "C#",
   "name": ".net-csharp"
  },
  "language_info": {
   "file_extension": ".cs",
   "mimetype": "text/x-csharp",
   "name": "C#",
   "pygments_lexer": "csharp",
   "version": "8.0"
  }
 },
 "nbformat": 4,
 "nbformat_minor": 4
}
